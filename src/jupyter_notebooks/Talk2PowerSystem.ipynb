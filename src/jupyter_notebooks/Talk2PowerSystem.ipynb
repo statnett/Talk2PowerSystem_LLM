{
 "cells": [
  {
   "cell_type": "markdown",
   "id": "0d51186b-568a-4eae-9d2e-83a7084f920b",
   "metadata": {},
   "source": [
    "# Talk2PowerSystem"
   ]
  },
  {
   "cell_type": "markdown",
   "id": "9b053819-7b6c-4b41-b47f-aea793906e5c",
   "metadata": {},
   "source": [
    "## Setup logging"
   ]
  },
  {
   "cell_type": "code",
   "execution_count": null,
   "id": "c563b52f-41f6-44a9-b804-d689d87d2909",
   "metadata": {},
   "outputs": [],
   "source": [
    "import logging\n",
    "import sys\n",
    "\n",
    "logger = logging.getLogger('')\n",
    "logger.setLevel(logging.DEBUG)\n",
    "\n",
    "handler = logging.StreamHandler(sys.stdout)\n",
    "handler.setFormatter(logging.Formatter(\"%(asctime)s - %(levelname)s - %(message)s\"))\n",
    "\n",
    "logger.handlers.clear()\n",
    "logger.addHandler(handler)\n",
    "\n",
    "logging.getLogger(\"openai\").setLevel(logging.ERROR)\n",
    "logging.getLogger(\"httpx\").setLevel(logging.ERROR)\n",
    "logging.getLogger(\"httpcore\").setLevel(logging.ERROR)"
   ]
  },
  {
   "cell_type": "markdown",
   "id": "11a5ea1a-b674-47eb-95e6-b3ad3e6b0e10",
   "metadata": {},
   "source": [
    "## Setup credentials"
   ]
  },
  {
   "cell_type": "code",
   "execution_count": null,
   "id": "2dbbd7af-c85d-4e46-8235-2864cc250c76",
   "metadata": {},
   "outputs": [],
   "source": [
    "from ttyg.utils import set_env\n",
    "\n",
    "# set_env(\"GRAPHDB_PASSWORD\")\n",
    "set_env(\"LLM_API_KEY\")"
   ]
  },
  {
   "cell_type": "markdown",
   "id": "df913eb0-ad03-47b9-b7b0-732054e64cd8",
   "metadata": {},
   "source": [
    "## Create the agent"
   ]
  },
  {
   "cell_type": "code",
   "execution_count": null,
   "id": "9e7a89d3-6de5-43b0-8e07-d5f37ce72344",
   "metadata": {},
   "outputs": [],
   "source": [
    "from pathlib import Path\n",
    "\n",
    "from langgraph.checkpoint.memory import InMemorySaver\n",
    "\n",
    "from talk2powersystemllm.agent import Talk2PowerSystemAgent\n",
    "\n",
    "agent_executor = Talk2PowerSystemAgent(\n",
    "    Path(\"../../config/dev+cognite.yaml\"),\n",
    "    checkpointer=InMemorySaver()\n",
    ").agent"
   ]
  },
  {
   "cell_type": "markdown",
   "id": "eec08d41-4493-481c-9e9c-cffd4698a810",
   "metadata": {},
   "source": [
    "## Send consecutive questions in the same thread (conversation)\n",
    "\n",
    "Note, that at the moment the conversations history is not persisted and is kept in the memory. Upon shut down of the notebook, it will be lost."
   ]
  },
  {
   "cell_type": "code",
   "execution_count": null,
   "id": "f16d9680-9db6-450f-8b08-9854d6b2aa4f",
   "metadata": {
    "scrolled": true
   },
   "outputs": [],
   "source": [
    "from ttyg.agents import run_agent\n",
    "\n",
    "\n",
    "conf = {\"configurable\": {\"thread_id\": \"thread-123\"}}\n",
    "messages = {\"messages\": [(\"user\", \"List all transformers within substation OSLO.\")]}\n",
    "last_message_id = run_agent(agent_executor, messages, conf)"
   ]
  },
  {
   "cell_type": "code",
   "execution_count": null,
   "id": "f437d74c-4b08-4b60-aea3-8bdf9d59f895",
   "metadata": {},
   "outputs": [],
   "source": [
    "messages = {\"messages\": [(\"user\", \"Give me their descriptions\")]}\n",
    "last_message_id = run_agent(agent_executor, messages, conf, last_message_id=last_message_id)"
   ]
  },
  {
   "cell_type": "markdown",
   "id": "0a2644f3-f8a0-435f-a9ba-04d7186e7e7d",
   "metadata": {},
   "source": [
    "## Or iterate over set of questions, each within a separate thread (conversation)"
   ]
  },
  {
   "cell_type": "code",
   "execution_count": null,
   "id": "e8373551-3bf0-447d-84cf-cfe340b5e003",
   "metadata": {
    "scrolled": true
   },
   "outputs": [],
   "source": [
    "from datetime import datetime\n",
    "\n",
    "from ttyg.agents import run_agent\n",
    "\n",
    "from talk2powersystemllm.tools.user_datetime_context import user_datetime_ctx\n",
    "\n",
    "\n",
    "questions = [\n",
    "    \"List all transformers within substation OSLO.\",\n",
    "    \"Liste alle transformatorer innenfor nettstasjon OSLO.\",\n",
    "    \"List all substations within NO2 SGR region\",\n",
    "    \"Liste alle nettstasjoner innenfor NO2 SGR regionen\",\n",
    "    \"List all substations that are connected via an AC-line or a DC line to substation named ASKER\",\n",
    "    \"List opp alle understasjoner som er koblet via en AC-linje eller en DC-linje til understasjon kalt ASKER\",\n",
    "    \"List all AC-lines that traverse the regions NO5 SGR and NO2 SGR\",\n",
    "    \"List opp alle AC-linjer som krysser regionene NO5 SGR og NO2 SGR\",\n",
    "    \"show how many resources are there by class\",\n",
    "    \"List five analogs of type active power\",\n",
    "    \"Give me 8 synchronous machines of type generator\",\n",
    "    \"List transformers that are normally in service\",\n",
    "    \"Give me 5 switches that are normally closed\",\n",
    "    \"List all synchronous machines that have \\\"M1\\\" or \\\"M2\\\" in the name, but not \\\"300\\\"\",\n",
    "    \"Find the PSR f1769676\",\n",
    "    \"Find the equipment f1769c74-9aeb-11e5-91da-b8763fd99c5f\",\n",
    "    \"Give me the name of the bidding zone 10YNO-4--------9\",\n",
    "    \"List all substations north of Trondheim\",\n",
    "    # Time series questions\n",
    "    \"Power flow from NO1 to NO3; for 2025, weekly average, min, max\",\n",
    "    \"Power flow from NO3 to NO1; for 2025, weekly average, min, max\",\n",
    "    \"Power flow from 10YNO-1--------2 to 10YNO-2--------T; for 2025, weekly average, min, max\",\n",
    "    \"5 minutes average energy flow between NO3 and NO4 for today between 13:00 and 14:00\",\n",
    "    \"Energy prices in EUR for NO1; for the second half of 2024, monthly average and standard deviation\",\n",
    "    \"Energy prices in NOK for NO1; for the second half of 2024, monthly average and standard deviation\",\n",
    "    \"Energy prices for NO1; for the second half of 2024, monthly average and standard deviation\",\n",
    "    \"What is the EIC code of zone NO1; and its energy price for last year (monthly average)\",\n",
    "]\n",
    "\n",
    "for i, question in enumerate(questions):\n",
    "    conf = {\"configurable\": {\"thread_id\": f\"thread-{i}\"}}\n",
    "    messages = {\"messages\": [(\"user\", question)]}\n",
    "    user_datetime_ctx.set(datetime.now().astimezone().strftime(\"%Y-%m-%dT%H:%M:%S%z\"))\n",
    "    run_agent(agent_executor, messages, conf)"
   ]
  }
 ],
 "metadata": {
  "kernelspec": {
   "display_name": "Python 3 (ipykernel)",
   "language": "python",
   "name": "python3"
  },
  "language_info": {
   "codemirror_mode": {
    "name": "ipython",
    "version": 3
   },
   "file_extension": ".py",
   "mimetype": "text/x-python",
   "name": "python",
   "nbconvert_exporter": "python",
   "pygments_lexer": "ipython3",
   "version": "3.12.11"
  }
 },
 "nbformat": 4,
 "nbformat_minor": 5
}
